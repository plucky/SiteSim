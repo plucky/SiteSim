{
 "cells": [
  {
   "cell_type": "markdown",
   "metadata": {},
   "source": [
    "# Analysis of AP systems\n",
    "\n",
    "**usually: AA weak, AP medium, P dimerization, intra-factor $\\alpha=10^5$ ($k^{\\text{(a)}}_{on}=10^9$)**"
   ]
  },
  {
   "cell_type": "markdown",
   "metadata": {},
   "source": [
    "## Preambles"
   ]
  },
  {
   "cell_type": "code",
   "execution_count": 1,
   "metadata": {},
   "outputs": [],
   "source": [
    "%load_ext autoreload\n",
    "%autoreload 2"
   ]
  },
  {
   "cell_type": "code",
   "execution_count": 2,
   "metadata": {},
   "outputs": [],
   "source": [
    "%matplotlib inline\n",
    "#%matplotlib widget\n",
    "import matplotlib as mpl\n",
    "import matplotlib.backends.backend_pdf"
   ]
  },
  {
   "cell_type": "code",
   "execution_count": 3,
   "metadata": {},
   "outputs": [],
   "source": [
    "#mpl.rcParams['figure.figsize'] = [8, 6]\n",
    "#mpl.rcParams['figure.dpi'] = 300 #72"
   ]
  },
  {
   "cell_type": "code",
   "execution_count": 4,
   "metadata": {},
   "outputs": [],
   "source": [
    "#\n",
    "import kainit\n",
    "import kamix\n",
    "import kalarm\n",
    "import kamol\n",
    "import kaparam\n",
    "import kareact\n",
    "import kasig\n",
    "import kasim\n",
    "import kasystem\n",
    "import kaheap\n",
    "import kamatch\n",
    "import kaviz\n",
    "import kasnap\n",
    "import kagraph\n",
    "import kaplot"
   ]
  },
  {
   "cell_type": "code",
   "execution_count": 5,
   "metadata": {
    "code_folding": []
   },
   "outputs": [],
   "source": [
    "#import commands as cmd\n",
    "\n",
    "import networkx as nx\n",
    "import pandas as pd\n",
    "import numpy as np\n",
    "from math import ceil\n",
    "\n",
    "import seaborn as sns\n",
    "\n",
    "import matplotlib.pyplot as plt\n",
    "import os\n",
    "import bz2\n",
    "import pickle\n",
    "import sys"
   ]
  },
  {
   "cell_type": "code",
   "execution_count": 6,
   "metadata": {},
   "outputs": [],
   "source": [
    "root = '/home/wf7/Walter/CombiFluids/PhaseDiagram/'\n",
    "snapshot_directory = root + 'T25_A100_P20/'\n",
    "csv_directory = snapshot_directory\n",
    "csv_datafile = csv_directory + 'output_P_C20.csv'\n",
    "results_directory = 'Analysis/'"
   ]
  },
  {
   "cell_type": "code",
   "execution_count": 123,
   "metadata": {},
   "outputs": [
    {
     "name": "stdout",
     "output_type": "stream",
     "text": [
      "snapshot_directory = /home/wf7/Walter/CombiFluids/PhaseDiagram/T25_A100_P20/\n",
      "csv_directory = /home/wf7/Walter/CombiFluids/PhaseDiagram/T25_A100_P20/\n",
      "csv_datafile = /home/wf7/Walter/CombiFluids/PhaseDiagram/T25_A100_P20/output_P_C20.csv\n",
      "results_directory = Analysis/\n"
     ]
    }
   ],
   "source": [
    "print(f'snapshot_directory = {snapshot_directory}')\n",
    "print(f'csv_directory = {csv_directory}')\n",
    "print(f'csv_datafile = {csv_datafile}')\n",
    "print(f'results_directory = {results_directory}')"
   ]
  },
  {
   "cell_type": "markdown",
   "metadata": {},
   "source": [
    "## Quick simulation progress check\n"
   ]
  },
  {
   "cell_type": "code",
   "execution_count": null,
   "metadata": {
    "pycharm": {
     "is_executing": true
    }
   },
   "outputs": [],
   "source": [
    "data = pd.read_csv(csv_datafile, comment='#')\n",
    "data.fillna(0, inplace=True)"
   ]
  },
  {
   "cell_type": "code",
   "execution_count": null,
   "metadata": {
    "pycharm": {
     "is_executing": true
    }
   },
   "outputs": [],
   "source": [
    "if 'pX' in locals(): plt.close(pX.fig)\n",
    "pX = kaplot.XY_plot(params={'linestyle': '-', 'linewidth': 1, 'markersize': 2})\n",
    "pX.ax.set_xscale('linear')\n",
    "pX.ax.set_yscale('log')\n",
    "pX.add(data, x='time', y='sz-rank 1', params={'label': 'max', 'color': 'r'})\n",
    "pX.ax.legend();"
   ]
  },
  {
   "cell_type": "markdown",
   "metadata": {},
   "source": [
    "## Acquire basic dataframes from snapshots"
   ]
  },
  {
   "cell_type": "code",
   "execution_count": 21,
   "metadata": {},
   "outputs": [],
   "source": [
    "def patterns(snapshot, pats):\n",
    "\n",
    "    # get a site graph matcher\n",
    "    SGM = kamatch.SiteGraphMatcher()\n",
    "\n",
    "    # turn the patterns into internal representations\n",
    "    ip = [kamol.KappaComplex(p, canon=False) for p in pats]\n",
    "\n",
    "    # read the snapshot\n",
    "    print(f' scanning {snapshot}', end='\\r')\n",
    "    snap = kasnap.SnapShot(snapshot)\n",
    "    print(f'analyzing {snapshot}', end='\\r')\n",
    "\n",
    "    all_lv = list(snap.local_views.keys())\n",
    "    columns = ['complex', 'size', 'count', 'composition'] + all_lv + pats\n",
    "    df = pd.DataFrame(columns=columns)\n",
    "    data = []\n",
    "\n",
    "    # sort complexes with decreasing size\n",
    "    snap.complexes.sort(key=lambda m: m.size, reverse=True)\n",
    "\n",
    "    idx = 1\n",
    "    for c in snap.complexes:\n",
    "        # distinguishable embeddings in c modulo automorphisms\n",
    "        pattern_count = []\n",
    "        local = []\n",
    "        for p in ip:\n",
    "            pattern_count.append(SGM.number_of_all_embeddings(c, p) / len(SGM.automorphisms(p)))\n",
    "        for lv in all_lv:\n",
    "            if lv in c.local_views:\n",
    "                local.append(len(c.local_views[lv]))\n",
    "            else:\n",
    "                local.append(0)\n",
    "        data.append([idx, c.size, c.count, c.composition] + local + pattern_count)\n",
    "        idx += 1\n",
    "\n",
    "    # fill the dataframe\n",
    "\n",
    "    df = df.append(pd.DataFrame(data, columns=columns))\n",
    "    print(f'done {\" \":30}')\n",
    "    return df"
   ]
  },
  {
   "cell_type": "code",
   "execution_count": 22,
   "metadata": {},
   "outputs": [],
   "source": [
    "pats = ['A(p[.])', \n",
    "        'A(l[.])', \n",
    "        'A(r[.])', \n",
    "        'A(l[.] r[.])', \n",
    "        'P(d[.])', 'P(a1[.])', \n",
    "        'P(a2[.])',\n",
    "        'P(a3[.])', \n",
    "        'A(r[1]), A(l[1])', \n",
    "        'A(p[1]), P(a1[1])', \n",
    "        'A(p[1]), P(a2[1])', \n",
    "        'A(p[1]), P(a3[1])', \n",
    "        'P(d[1]), P(d[1])']"
   ]
  },
  {
   "cell_type": "code",
   "execution_count": 23,
   "metadata": {
    "scrolled": true
   },
   "outputs": [
    {
     "name": "stdout",
     "output_type": "stream",
     "text": [
      " scanning /home/wf7/Walter/CombiFluids/PhaseDiagram/T/snap154.ka\r"
     ]
    },
    {
     "ename": "Exception",
     "evalue": "Cannot find snapshot file /home/wf7/Walter/CombiFluids/PhaseDiagram/T/snap154.ka",
     "output_type": "error",
     "traceback": [
      "\u001B[0;31m---------------------------------------------------------------------------\u001B[0m",
      "\u001B[0;31mException\u001B[0m                                 Traceback (most recent call last)",
      "Cell \u001B[0;32mIn[23], line 1\u001B[0m\n\u001B[0;32m----> 1\u001B[0m df \u001B[38;5;241m=\u001B[39m \u001B[43mpatterns\u001B[49m\u001B[43m(\u001B[49m\u001B[43msnapshot_directory\u001B[49m\u001B[43m \u001B[49m\u001B[38;5;241;43m+\u001B[39;49m\u001B[43m \u001B[49m\u001B[38;5;124;43m'\u001B[39;49m\u001B[38;5;124;43msnap154.ka\u001B[39;49m\u001B[38;5;124;43m'\u001B[39;49m\u001B[43m,\u001B[49m\u001B[43m \u001B[49m\u001B[43mpats\u001B[49m\u001B[43m)\u001B[49m\n",
      "Cell \u001B[0;32mIn[21], line 11\u001B[0m, in \u001B[0;36mpatterns\u001B[0;34m(snapshot, pats)\u001B[0m\n\u001B[1;32m      9\u001B[0m \u001B[38;5;66;03m# read the snapshot\u001B[39;00m\n\u001B[1;32m     10\u001B[0m \u001B[38;5;28mprint\u001B[39m(\u001B[38;5;124mf\u001B[39m\u001B[38;5;124m'\u001B[39m\u001B[38;5;124m scanning \u001B[39m\u001B[38;5;132;01m{\u001B[39;00msnapshot\u001B[38;5;132;01m}\u001B[39;00m\u001B[38;5;124m'\u001B[39m, end\u001B[38;5;241m=\u001B[39m\u001B[38;5;124m'\u001B[39m\u001B[38;5;130;01m\\r\u001B[39;00m\u001B[38;5;124m'\u001B[39m)\n\u001B[0;32m---> 11\u001B[0m snap \u001B[38;5;241m=\u001B[39m \u001B[43mkasnap\u001B[49m\u001B[38;5;241;43m.\u001B[39;49m\u001B[43mSnapShot\u001B[49m\u001B[43m(\u001B[49m\u001B[43msnapshot\u001B[49m\u001B[43m)\u001B[49m\n\u001B[1;32m     12\u001B[0m \u001B[38;5;28mprint\u001B[39m(\u001B[38;5;124mf\u001B[39m\u001B[38;5;124m'\u001B[39m\u001B[38;5;124manalyzing \u001B[39m\u001B[38;5;132;01m{\u001B[39;00msnapshot\u001B[38;5;132;01m}\u001B[39;00m\u001B[38;5;124m'\u001B[39m, end\u001B[38;5;241m=\u001B[39m\u001B[38;5;124m'\u001B[39m\u001B[38;5;130;01m\\r\u001B[39;00m\u001B[38;5;124m'\u001B[39m)\n\u001B[1;32m     14\u001B[0m all_lv \u001B[38;5;241m=\u001B[39m \u001B[38;5;28mlist\u001B[39m(snap\u001B[38;5;241m.\u001B[39mlocal_views\u001B[38;5;241m.\u001B[39mkeys())\n",
      "File \u001B[0;32m~/Walter/Python/KappaUtilities/kasnap.py:163\u001B[0m, in \u001B[0;36mSnapShot.__init__\u001B[0;34m(self, file, complexes, system, signature, canon)\u001B[0m\n\u001B[1;32m    161\u001B[0m \u001B[38;5;28;01mif\u001B[39;00m file:\n\u001B[1;32m    162\u001B[0m     \u001B[38;5;28;01mif\u001B[39;00m \u001B[38;5;28mself\u001B[39m\u001B[38;5;241m.\u001B[39mfile\u001B[38;5;241m.\u001B[39mendswith(\u001B[38;5;124m\"\u001B[39m\u001B[38;5;124m.ka\u001B[39m\u001B[38;5;124m\"\u001B[39m):\n\u001B[0;32m--> 163\u001B[0m         value \u001B[38;5;241m=\u001B[39m \u001B[43mload_and_unpack\u001B[49m\u001B[43m(\u001B[49m\u001B[43mfile\u001B[49m\u001B[43m,\u001B[49m\n\u001B[1;32m    164\u001B[0m \u001B[43m                                \u001B[49m\u001B[43msystem\u001B[49m\u001B[38;5;241;43m=\u001B[39;49m\u001B[43msystem\u001B[49m\u001B[43m,\u001B[49m\n\u001B[1;32m    165\u001B[0m \u001B[43m                                \u001B[49m\u001B[43mlocal_views\u001B[49m\u001B[38;5;241;43m=\u001B[39;49m\u001B[38;5;28;43mself\u001B[39;49m\u001B[38;5;241;43m.\u001B[39;49m\u001B[43mlocal_views\u001B[49m\u001B[43m,\u001B[49m\n\u001B[1;32m    166\u001B[0m \u001B[43m                                \u001B[49m\u001B[43msignature\u001B[49m\u001B[38;5;241;43m=\u001B[39;49m\u001B[43msignature\u001B[49m\u001B[43m,\u001B[49m\n\u001B[1;32m    167\u001B[0m \u001B[43m                                \u001B[49m\u001B[43mcanon\u001B[49m\u001B[38;5;241;43m=\u001B[39;49m\u001B[43mcanon\u001B[49m\u001B[43m)\u001B[49m\n\u001B[1;32m    168\u001B[0m         \u001B[38;5;28mself\u001B[39m\u001B[38;5;241m.\u001B[39mevent, \u001B[38;5;28mself\u001B[39m\u001B[38;5;241m.\u001B[39morigin_uuid, \u001B[38;5;28mself\u001B[39m\u001B[38;5;241m.\u001B[39mrg_state, \u001B[38;5;28mself\u001B[39m\u001B[38;5;241m.\u001B[39mtime, \u001B[38;5;28mself\u001B[39m\u001B[38;5;241m.\u001B[39mcomplexes, \u001B[38;5;28mself\u001B[39m\u001B[38;5;241m.\u001B[39mlocal_views \u001B[38;5;241m=\u001B[39m value\n\u001B[1;32m    169\u001B[0m     \u001B[38;5;28;01melse\u001B[39;00m:\n",
      "File \u001B[0;32m~/Walter/Python/KappaUtilities/kasnap.py:41\u001B[0m, in \u001B[0;36mload_and_unpack\u001B[0;34m(kappa_file, system, local_views, signature, canon)\u001B[0m\n\u001B[1;32m     39\u001B[0m kappa \u001B[38;5;241m=\u001B[39m kamol\u001B[38;5;241m.\u001B[39mKappa()  \u001B[38;5;66;03m# the parser\u001B[39;00m\n\u001B[1;32m     40\u001B[0m \u001B[38;5;28;01mif\u001B[39;00m \u001B[38;5;129;01mnot\u001B[39;00m os\u001B[38;5;241m.\u001B[39mpath\u001B[38;5;241m.\u001B[39misfile(kappa_file):\n\u001B[0;32m---> 41\u001B[0m     \u001B[38;5;28;01mraise\u001B[39;00m \u001B[38;5;167;01mException\u001B[39;00m(\u001B[38;5;124m\"\u001B[39m\u001B[38;5;124mCannot find snapshot file \u001B[39m\u001B[38;5;132;01m%s\u001B[39;00m\u001B[38;5;124m\"\u001B[39m \u001B[38;5;241m%\u001B[39m kappa_file)\n\u001B[1;32m     42\u001B[0m \u001B[38;5;28;01melse\u001B[39;00m:\n\u001B[1;32m     43\u001B[0m     \u001B[38;5;28;01mwith\u001B[39;00m \u001B[38;5;28mopen\u001B[39m(kappa_file, \u001B[38;5;124m\"\u001B[39m\u001B[38;5;124mr\u001B[39m\u001B[38;5;124m\"\u001B[39m) \u001B[38;5;28;01mas\u001B[39;00m data:\n",
      "\u001B[0;31mException\u001B[0m: Cannot find snapshot file /home/wf7/Walter/CombiFluids/PhaseDiagram/T/snap154.ka"
     ]
    }
   ],
   "source": [
    "df = patterns(snapshot_directory + 'snap154.ka', pats)"
   ]
  },
  {
   "cell_type": "code",
   "execution_count": null,
   "metadata": {},
   "outputs": [],
   "source": [
    "df.set_index('complex', inplace=True)"
   ]
  },
  {
   "cell_type": "code",
   "execution_count": null,
   "outputs": [],
   "source": [
    "pd.set_option('display.max_columns', None)"
   ],
   "metadata": {
    "collapsed": false
   }
  },
  {
   "cell_type": "code",
   "execution_count": null,
   "metadata": {},
   "outputs": [],
   "source": [
    "df"
   ]
  },
  {
   "cell_type": "code",
   "execution_count": null,
   "metadata": {},
   "outputs": [],
   "source": [
    "n = 0\n",
    "for i in range(1, len(df) + 1):\n",
    "    n += df.loc[i,'patterns']['A(r[1]), A(l[1])'] * df.loc[i,'count']\n",
    "print(f'[{i}] {n}')"
   ]
  }
 ],
 "metadata": {
  "kernelspec": {
   "display_name": "Python 3 (ipykernel)",
   "language": "python",
   "name": "python3"
  },
  "language_info": {
   "codemirror_mode": {
    "name": "ipython",
    "version": 3
   },
   "file_extension": ".py",
   "mimetype": "text/x-python",
   "name": "python",
   "nbconvert_exporter": "python",
   "pygments_lexer": "ipython3",
   "version": "3.11.0"
  },
  "toc": {
   "base_numbering": 1,
   "nav_menu": {},
   "number_sections": true,
   "sideBar": true,
   "skip_h1_title": true,
   "title_cell": "Table of Contents",
   "title_sidebar": "Contents",
   "toc_cell": false,
   "toc_position": {
    "height": "calc(100% - 180px)",
    "left": "10px",
    "top": "150px",
    "width": "352.4px"
   },
   "toc_section_display": true,
   "toc_window_display": true
  }
 },
 "nbformat": 4,
 "nbformat_minor": 4
}
